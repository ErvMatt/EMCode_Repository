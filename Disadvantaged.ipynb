{
 "cells": [
  {
   "cell_type": "code",
   "execution_count": 15,
   "id": "32987e11",
   "metadata": {},
   "outputs": [
    {
     "name": "stdout",
     "output_type": "stream",
     "text": [
      "   District IRN                        District Name      County     Region  \\\n",
      "0         43901  East Cleveland City School District    Cuyahoga   Region 3   \n",
      "1         45161                      Youngstown City    Mahoning   Region 5   \n",
      "2         44230                       Lockland Local    Hamilton  Region 13   \n",
      "3         48686             Jefferson Township Local  Montgomery  Region 10   \n",
      "4         48694                Trotwood-Madison City  Montgomery  Region 10   \n",
      "\n",
      "   Average Income  Administrator Expenditure Per Pupil FY22  \\\n",
      "0           29716                                   7092.59   \n",
      "1           32791                                   3449.66   \n",
      "2           38882                                   3607.25   \n",
      "3           46581                                   5027.50   \n",
      "4           36542                                   2523.07   \n",
      "\n",
      "   Building Operation Expenditure Per Pupil FY22  \\\n",
      "0                                        4587.12   \n",
      "1                                        6154.99   \n",
      "2                                        1575.41   \n",
      "3                                        6306.85   \n",
      "4                                        3223.71   \n",
      "\n",
      "   Instructional Expenditure Per Pupil FY22        `  \\\n",
      "0                                  13036.72  2112.27   \n",
      "1                                  14608.39  3229.69   \n",
      "2                                  13936.66  1362.82   \n",
      "3                                   9657.18  2006.37   \n",
      "4                                  10173.94  1508.69   \n",
      "\n",
      "   Staff Support Expenditure Per Pupil FY22  ...  Percent of Students Basic  \\\n",
      "0                                    560.42  ...                       18.5   \n",
      "1                                   1524.78  ...                       19.7   \n",
      "2                                    596.46  ...                       23.6   \n",
      "3                                   1028.86  ...                       20.9   \n",
      "4                                    744.16  ...                       20.2   \n",
      "\n",
      "   Percent of Students Proficient  Percent of Students Accomplished  \\\n",
      "0                             9.7                               3.1   \n",
      "1                            11.6                               4.3   \n",
      "2                            13.3                               2.8   \n",
      "3                            14.6                               3.4   \n",
      "4                            13.4                               4.2   \n",
      "\n",
      "   Percent of Students Advanced  Percent of Students Advanced Plus  \\\n",
      "0                           0.7                                0.0   \n",
      "1                           1.8                                0.1   \n",
      "2                           1.3                                0.0   \n",
      "3                           2.9                                0.0   \n",
      "4                           1.7                                0.0   \n",
      "\n",
      "   Math Scores  Above Proficient  Performace Index  \\\n",
      "0         13.5               3.8              38.3   \n",
      "1         17.8               6.2              38.9   \n",
      "2         17.4               4.1              41.3   \n",
      "3         20.9               6.3              39.9   \n",
      "4         19.3               5.9              41.1   \n",
      "\n",
      "   Performance Index Score 2019-2020  Unnamed: 28  \n",
      "0                                 NC          NaN  \n",
      "1                                 NC          NaN  \n",
      "2                                 NC          NaN  \n",
      "3                                 NC          NaN  \n",
      "4                                 NC          NaN  \n",
      "\n",
      "[5 rows x 29 columns]\n"
     ]
    }
   ],
   "source": [
    "import pandas as pd\n",
    "\n",
    "# Use forward slashes for the file path\n",
    "file_path = 'C:/Users/Win_10/Documents/Dr Josh/FY22-Ohio Schools Data - RD1.xlsx'\n",
    "\n",
    "# Read Excel file into a DataFrame\n",
    "df = pd.read_excel(file_path, sheet_name='Performance_Index')\n",
    "\n",
    "# Display the first few rows of the DataFrame\n",
    "print(df.head())"
   ]
  },
  {
   "cell_type": "code",
   "execution_count": 16,
   "id": "b89bc5ad",
   "metadata": {},
   "outputs": [
    {
     "name": "stdout",
     "output_type": "stream",
     "text": [
      "Training set size: 484\n",
      "Testing set size: 122\n"
     ]
    }
   ],
   "source": [
    "import pandas as pd\n",
    "from sklearn.model_selection import train_test_split\n",
    "\n",
    "# Assuming you have a DataFrame 'df' with columns 'math_scores' and 'average_income'\n",
    "# Replace 'df' and column names with your actual DataFrame and column names\n",
    "\n",
    "# Extracting the independent variable (IV) and dependent variable (DV)\n",
    "X = df[['Disadvantaged']]  # IV\n",
    "y = df['Math Scores']  # DV\n",
    "\n",
    "# Split the dataset into training and testing sets with an 80/20 ratio\n",
    "X_train, X_test, y_train, y_test = train_test_split(X, y, test_size=0.2, random_state=42)\n",
    "\n",
    "# Display the sizes of the training and testing sets\n",
    "print(\"Training set size:\", len(X_train))\n",
    "print(\"Testing set size:\", len(X_test))\n"
   ]
  },
  {
   "cell_type": "code",
   "execution_count": 17,
   "id": "2156914c",
   "metadata": {},
   "outputs": [
    {
     "name": "stdout",
     "output_type": "stream",
     "text": [
      "Mean Squared Error: 68.58320997693839\n",
      "R-squared: 0.6891989113403203\n"
     ]
    },
    {
     "data": {
      "image/png": "[encoded data removed]",
      "text/plain": [
       "<Figure size 640x480 with 1 Axes>"
      ]
     },
     "metadata": {},
     "output_type": "display_data"
    }
   ],
   "source": [
    "import pandas as pd\n",
    "from sklearn.model_selection import train_test_split\n",
    "from sklearn.linear_model import LinearRegression\n",
    "from sklearn.metrics import mean_squared_error, r2_score\n",
    "import matplotlib.pyplot as plt\n",
    "\n",
    "# Assuming you have a DataFrame 'df' with columns 'Average Income' and 'Math Scores'\n",
    "# Replace 'df' and column names with your actual DataFrame and column names\n",
    "\n",
    "# Extracting the independent variable (IV) and dependent variable (DV)\n",
    "X = df[['Disadvantaged']]   # IV (Independent Variable)\n",
    "y = df['Math Scores']         # DV (Dependent Variable)\n",
    "\n",
    "# Split the dataset into training and testing sets with an 80/20 ratio\n",
    "X_train, X_test, y_train, y_test = train_test_split(X, y, test_size=0.2, random_state=42)\n",
    "\n",
    "# Create a linear regression model\n",
    "model = LinearRegression()\n",
    "\n",
    "# Train the model\n",
    "model.fit(X_train, y_train)\n",
    "\n",
    "# Make predictions\n",
    "predictions = model.predict(X_test)\n",
    "\n",
    "# Evaluate model performance\n",
    "mse = mean_squared_error(y_test, predictions)\n",
    "r2 = r2_score(y_test, predictions)\n",
    "\n",
    "print(f'Mean Squared Error: {mse}')\n",
    "print(f'R-squared: {r2}')\n",
    "\n",
    "# Visualize the results\n",
    "plt.scatter(X_test, y_test, color='black', label='Actual')\n",
    "plt.scatter(X_test, predictions, color='red', label='Predicted')\n",
    "plt.xlabel('Disadvantaged')\n",
    "plt.ylabel('Math Scores')\n",
    "plt.legend()\n",
    "plt.show()\n"
   ]
  },
  {
   "cell_type": "code",
   "execution_count": 18,
   "id": "32d44588",
   "metadata": {},
   "outputs": [
    {
     "name": "stdout",
     "output_type": "stream",
     "text": [
      "Fold 1: RMSE = 8.281498051496381\n",
      "Fold 2: RMSE = 9.043225686641078\n",
      "Fold 3: RMSE = 8.593531338472346\n",
      "Fold 4: RMSE = 7.912290017947093\n",
      "Fold 5: RMSE = 8.865034868751668\n",
      "Average RMSE across all folds: 8.539115992661712\n",
      "Linear Regression Coefficients: [-42.75768352]\n",
      "Linear Regression Intercept: 80.93630128508376\n"
     ]
    }
   ],
   "source": [
    "import pandas as pd\n",
    "from sklearn.model_selection import cross_val_predict, KFold\n",
    "from sklearn.linear_model import LinearRegression\n",
    "from sklearn.metrics import make_scorer, mean_squared_error\n",
    "import numpy as np\n",
    "\n",
    "# Assuming you have a DataFrame 'df' with columns 'Average Income' and 'Math Scores'\n",
    "# Replace 'df' and column names with your actual DataFrame and column names\n",
    "\n",
    "# Extracting the independent variable (IV) and dependent variable (DV)\n",
    "X = df[['Disadvantaged']]   # IV (Independent Variable)\n",
    "y = df['Math Scores']         # DV (Dependent Variable)\n",
    "\n",
    "# Create a linear regression model\n",
    "model = LinearRegression()\n",
    "\n",
    "# Define k-fold cross-validation\n",
    "kf = KFold(n_splits=5, shuffle=True, random_state=42)\n",
    "\n",
    "# Initialize an array to store RMSE values for each fold\n",
    "rmse_scores = []\n",
    "\n",
    "# Perform cross-validation\n",
    "for train_index, test_index in kf.split(X):\n",
    "    X_train, X_test = X.iloc[train_index], X.iloc[test_index]\n",
    "    y_train, y_test = y.iloc[train_index], y.iloc[test_index]\n",
    "\n",
    "    # Train the model\n",
    "    model.fit(X_train, y_train)\n",
    "\n",
    "    # Make predictions\n",
    "    y_pred = model.predict(X_test)\n",
    "\n",
    "    # Calculate RMSE for the current fold\n",
    "    rmse_fold = np.sqrt(mean_squared_error(y_test, y_pred))\n",
    "    \n",
    "    # Append the RMSE to the scores array\n",
    "    rmse_scores.append(rmse_fold)\n",
    "\n",
    "# Print the RMSE for each fold\n",
    "for i, rmse in enumerate(rmse_scores, 1):\n",
    "    print(f'Fold {i}: RMSE = {rmse}')\n",
    "\n",
    "# Calculate and print the average RMSE across all folds\n",
    "average_rmse = np.mean(rmse_scores)\n",
    "print(f'Average RMSE across all folds: {average_rmse}')\n",
    "\n",
    "# Fit the model on the entire dataset to access coefficients and intercept\n",
    "model.fit(X, y)\n",
    "\n",
    "# Access linear regression coefficients and intercept\n",
    "coefficients = model.coef_\n",
    "intercept = model.intercept_\n",
    "\n",
    "print(\"Linear Regression Coefficients:\", coefficients)\n",
    "print(\"Linear Regression Intercept:\", intercept)\n"
   ]
  },
  {
   "cell_type": "code",
   "execution_count": null,
   "id": "15f445ba",
   "metadata": {},
   "outputs": [],
   "source": []
  }
 ],
 "metadata": {
  "kernelspec": {
   "display_name": "Python 3 (ipykernel)",
   "language": "python",
   "name": "python3"
  },
  "language_info": {
   "codemirror_mode": {
    "name": "ipython",
    "version": 3
   },
   "file_extension": ".py",
   "mimetype": "text/x-python",
   "name": "python",
   "nbconvert_exporter": "python",
   "pygments_lexer": "ipython3",
   "version": "3.9.13"
  }
 },
 "nbformat": 4,
 "nbformat_minor": 5
}
